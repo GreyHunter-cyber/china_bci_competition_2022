{
 "cells": [
  {
   "cell_type": "markdown",
   "id": "366473cf",
   "metadata": {},
   "source": [
    "# data augmentation"
   ]
  },
  {
   "cell_type": "markdown",
   "id": "bffcd745",
   "metadata": {},
   "source": [
    "### import packages"
   ]
  },
  {
   "cell_type": "code",
   "execution_count": 1,
   "id": "9c4c5086",
   "metadata": {},
   "outputs": [],
   "source": [
    "import pandas as pd\n",
    "import mne\n",
    "import numpy as np\n",
    "import os\n",
    "from tensorflow.keras import utils as np_utils"
   ]
  },
  {
   "cell_type": "markdown",
   "id": "ea75b3a3",
   "metadata": {},
   "source": [
    "### use mne to get the data and label of each pkl"
   ]
  },
  {
   "cell_type": "code",
   "execution_count": 2,
   "id": "f0fdfbc6",
   "metadata": {},
   "outputs": [],
   "source": [
    "ch_types = []\n",
    "for i in range(64):\n",
    "    ch_types.append('eeg')\n",
    "ch_types.append('stim')\n",
    "\n",
    "def fetch_data_label(pkl_path):\n",
    "    \n",
    "    obj = pd.read_pickle(pkl_path)\n",
    "    obj['ch_names'] = obj['ch_names'] + ('stim',)\n",
    "\n",
    "    raw = mne.io.RawArray(obj[\"data\"],mne.create_info(obj[\"ch_names\"],250,ch_types=ch_types))\n",
    "    raw.filter(2, None, method='iir')  # replace baselining with high-pass\n",
    "    \n",
    "    tmin, tmax = -0.2,3.9\n",
    "    events = mne.find_events(raw)\n",
    "    event_dict = {'hand/left': 201, 'hand/right': 202, 'feet': 203}\n",
    "    picks = mne.pick_types(raw.info, meg=False, eeg=True, stim=False, eog=False,\n",
    "                       )\n",
    "    epochs = mne.Epochs(raw, events, event_dict,tmin, tmax, proj=False,\n",
    "                    picks=picks, baseline=None, preload=True, verbose=False)\n",
    "\n",
    "    labels = epochs.events[:, -1]\n",
    "    X = epochs.get_data()*1000\n",
    "    y = np_utils.to_categorical(labels - 201 )\n",
    "    return X,y"
   ]
  },
  {
   "cell_type": "markdown",
   "id": "a075f86d",
   "metadata": {},
   "source": [
    "### iteration to get all data"
   ]
  },
  {
   "cell_type": "code",
   "execution_count": 3,
   "id": "a7c96d14",
   "metadata": {},
   "outputs": [],
   "source": [
    "def get_data(id):\n",
    "\n",
    "    X_train_1,Y_train_1 = fetch_data_label('train/S0'+str(id) + '/block_1.pkl')\n",
    "    X_train_2,Y_train_2 = fetch_data_label('train/S0'+str(id) + '/block_2.pkl')\n",
    "    X_train_3,Y_train_3 = fetch_data_label('train/S0'+str(id) + '/block_3.pkl')\n",
    "    X = np.concatenate((X_train_1,X_train_2,X_train_3))\n",
    "    Y = np.concatenate((Y_train_1,Y_train_2,Y_train_3))\n",
    "    # X,Y = shuffle(X,Y)\n",
    "    return X,Y"
   ]
  },
  {
   "cell_type": "code",
   "execution_count": 4,
   "id": "fb6da926",
   "metadata": {},
   "outputs": [],
   "source": [
    "# X = np.empty((0,64,1026))\n",
    "# Y = np.empty((0,3))\n",
    "# for i in range(1,6):\n",
    "#     X_tmp,Y_tmp = get_data(i)\n",
    "#     X = np.concatenate((X,X_tmp))\n",
    "#     Y = np.concatenate((Y,Y_tmp))\n"
   ]
  },
  {
   "cell_type": "code",
   "execution_count": 5,
   "id": "a90bf412",
   "metadata": {},
   "outputs": [
    {
     "name": "stdout",
     "output_type": "stream",
     "text": [
      "Creating RawArray with float64 data, n_channels=65, n_times=63374\n",
      "    Range : 0 ... 63373 =      0.000 ...   253.492 secs\n",
      "Ready.\n",
      "Filtering raw data in 1 contiguous segment\n",
      "Setting up high-pass filter at 2 Hz\n",
      "\n",
      "IIR filter parameters\n",
      "---------------------\n",
      "Butterworth highpass zero-phase (two-pass forward and reverse) non-causal filter:\n",
      "- Filter order 8 (effective, after forward-backward)\n",
      "- Cutoff at 2.00 Hz: -6.02 dB\n",
      "\n",
      "68 events found\n",
      "Event IDs: [201 202 203 240 241 242 243]\n",
      "Creating RawArray with float64 data, n_channels=65, n_times=63371\n",
      "    Range : 0 ... 63370 =      0.000 ...   253.480 secs\n",
      "Ready.\n",
      "Filtering raw data in 1 contiguous segment\n",
      "Setting up high-pass filter at 2 Hz\n",
      "\n",
      "IIR filter parameters\n",
      "---------------------\n",
      "Butterworth highpass zero-phase (two-pass forward and reverse) non-causal filter:\n",
      "- Filter order 8 (effective, after forward-backward)\n",
      "- Cutoff at 2.00 Hz: -6.02 dB\n",
      "\n",
      "66 events found\n",
      "Event IDs: [201 202 203 240 241 242 243]\n",
      "Creating RawArray with float64 data, n_channels=65, n_times=62871\n",
      "    Range : 0 ... 62870 =      0.000 ...   251.480 secs\n",
      "Ready.\n",
      "Filtering raw data in 1 contiguous segment\n",
      "Setting up high-pass filter at 2 Hz\n",
      "\n",
      "IIR filter parameters\n",
      "---------------------\n",
      "Butterworth highpass zero-phase (two-pass forward and reverse) non-causal filter:\n",
      "- Filter order 8 (effective, after forward-backward)\n",
      "- Cutoff at 2.00 Hz: -6.02 dB\n",
      "\n",
      "68 events found\n",
      "Event IDs: [201 202 203 240 241 242 243]\n"
     ]
    }
   ],
   "source": [
    "X,y = get_data(1)"
   ]
  },
  {
   "cell_type": "code",
   "execution_count": 6,
   "id": "4c8fb88b",
   "metadata": {},
   "outputs": [
    {
     "data": {
      "text/plain": [
       "(90, 64, 1026)"
      ]
     },
     "execution_count": 6,
     "metadata": {},
     "output_type": "execute_result"
    }
   ],
   "source": [
    "X.shape"
   ]
  },
  {
   "cell_type": "code",
   "execution_count": 16,
   "id": "3f90717a",
   "metadata": {},
   "outputs": [],
   "source": [
    "tmp = X[:,:,:200]"
   ]
  },
  {
   "cell_type": "code",
   "execution_count": 20,
   "id": "f52944e5",
   "metadata": {},
   "outputs": [],
   "source": [
    "X_new = np.concatenate((X[:,:,:200],X[:,:,200:]),axis=2)"
   ]
  },
  {
   "cell_type": "code",
   "execution_count": 21,
   "id": "2494ba23",
   "metadata": {},
   "outputs": [
    {
     "name": "stdout",
     "output_type": "stream",
     "text": [
      "(90, 64, 1026)\n"
     ]
    }
   ],
   "source": [
    "print(X.shape)"
   ]
  },
  {
   "cell_type": "code",
   "execution_count": 1,
   "id": "c16588c7",
   "metadata": {},
   "outputs": [],
   "source": [
    "a = []"
   ]
  },
  {
   "cell_type": "code",
   "execution_count": 2,
   "id": "7cd8f879",
   "metadata": {},
   "outputs": [],
   "source": [
    "a.append(1)"
   ]
  },
  {
   "cell_type": "code",
   "execution_count": 3,
   "id": "330e6b1c",
   "metadata": {},
   "outputs": [
    {
     "data": {
      "text/plain": [
       "[1]"
      ]
     },
     "execution_count": 3,
     "metadata": {},
     "output_type": "execute_result"
    }
   ],
   "source": [
    "a"
   ]
  },
  {
   "cell_type": "code",
   "execution_count": null,
   "id": "b01f46b9",
   "metadata": {},
   "outputs": [],
   "source": [
    "    "
   ]
  }
 ],
 "metadata": {
  "kernelspec": {
   "display_name": "ml",
   "language": "python",
   "name": "ml"
  },
  "language_info": {
   "codemirror_mode": {
    "name": "ipython",
    "version": 3
   },
   "file_extension": ".py",
   "mimetype": "text/x-python",
   "name": "python",
   "nbconvert_exporter": "python",
   "pygments_lexer": "ipython3",
   "version": "3.8.8"
  }
 },
 "nbformat": 4,
 "nbformat_minor": 5
}
