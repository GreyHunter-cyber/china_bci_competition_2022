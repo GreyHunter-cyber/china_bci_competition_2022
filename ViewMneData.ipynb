{
 "cells": [
  {
   "cell_type": "code",
   "execution_count": 1,
   "id": "37831ad5",
   "metadata": {},
   "outputs": [],
   "source": [
    "import mne\n",
    "from mne import io\n",
    "from mne.datasets import sample"
   ]
  },
  {
   "cell_type": "code",
   "execution_count": 2,
   "id": "67136c8b",
   "metadata": {},
   "outputs": [],
   "source": [
    "data_path = sample.data_path()\n",
    "\n",
    "# Set parameters and read data\n",
    "raw_fname = data_path + '/MEG/sample/sample_audvis_filt-0-40_raw.fif'\n",
    "event_fname = data_path + '/MEG/sample/sample_audvis_filt-0-40_raw-eve.fif'\n",
    "tmin, tmax = -0., 1\n",
    "event_id = dict(aud_l=1, aud_r=2, vis_l=3, vis_r=4)\n"
   ]
  },
  {
   "cell_type": "code",
   "execution_count": 3,
   "id": "2cd3d428",
   "metadata": {},
   "outputs": [],
   "source": [
    "raw = io.Raw(raw_fname, preload=True, verbose=False)\n",
    "raw.filter(2, None, method='iir')  # replace baselining with high-pass\n",
    "events = mne.read_events(event_fname)"
   ]
  },
  {
   "cell_type": "code",
   "execution_count": 6,
   "id": "d631012c",
   "metadata": {},
   "outputs": [
    {
     "name": "stdout",
     "output_type": "stream",
     "text": [
      "<Info | 15 non-empty values\n",
      " bads: 2 items (MEG 2443, EEG 053)\n",
      " ch_names: MEG 0113, MEG 0112, MEG 0111, MEG 0122, MEG 0123, MEG 0121, MEG ...\n",
      " chs: 204 Gradiometers, 102 Magnetometers, 9 Stimulus, 60 EEG, 1 EOG\n",
      " custom_ref_applied: False\n",
      " dev_head_t: MEG device -> head transform\n",
      " dig: 146 items (3 Cardinal, 4 HPI, 61 EEG, 78 Extra)\n",
      " file_id: 4 items (dict)\n",
      " highpass: 2.0 Hz\n",
      " hpi_meas: 1 item (list)\n",
      " hpi_results: 1 item (list)\n",
      " lowpass: 40.0 Hz\n",
      " meas_date: 2002-12-03 19:01:10 UTC\n",
      " meas_id: 4 items (dict)\n",
      " nchan: 376\n",
      " projs: PCA-v1: off, PCA-v2: off, PCA-v3: off, Average EEG reference: off\n",
      " sfreq: 150.2 Hz\n",
      ">\n"
     ]
    }
   ],
   "source": [
    "print(raw.info)"
   ]
  },
  {
   "cell_type": "code",
   "execution_count": 8,
   "id": "538cdf1c",
   "metadata": {},
   "outputs": [
    {
     "name": "stdout",
     "output_type": "stream",
     "text": [
      "Not setting metadata\n",
      "Not setting metadata\n",
      "319 matching events found\n",
      "Setting baseline interval to [-0.19979521315838786, 0.0] sec\n",
      "Applying baseline correction (mode: mean)\n",
      "Created an SSP operator (subspace dimension = 4)\n",
      "4 projection items activated\n",
      "Loading data for 319 events and 106 original time points ...\n",
      "    Rejecting  epoch based on EOG : ['EOG 061']\n",
      "    Rejecting  epoch based on EOG : ['EOG 061']\n",
      "    Rejecting  epoch based on MAG : ['MEG 1711']\n",
      "    Rejecting  epoch based on EOG : ['EOG 061']\n",
      "    Rejecting  epoch based on EOG : ['EOG 061']\n",
      "    Rejecting  epoch based on MAG : ['MEG 1711']\n",
      "    Rejecting  epoch based on EOG : ['EOG 061']\n",
      "    Rejecting  epoch based on EOG : ['EOG 061']\n",
      "    Rejecting  epoch based on EOG : ['EOG 061']\n",
      "9 bad epochs dropped\n"
     ]
    }
   ],
   "source": [
    "event_dict = {'auditory/left': 1, 'auditory/right': 2, 'visual/left': 3,\n",
    "              'visual/right': 4, 'smiley': 5, 'buttonpress': 32}\n",
    "reject_criteria = dict(mag=4000e-15,     # 4000 fT\n",
    "                       grad=4000e-13,    # 4000 fT/cm\n",
    "                       eeg=150e-6,       # 150 µV\n",
    "                       eog=250e-6)    \n",
    "epochs = mne.Epochs(raw, events, event_id=event_dict, tmin=-0.2, tmax=0.5,\n",
    "                    reject=reject_criteria, preload=True)"
   ]
  },
  {
   "cell_type": "code",
   "execution_count": 9,
   "id": "08d2160c",
   "metadata": {},
   "outputs": [],
   "source": [
    "X = epochs.get_data()"
   ]
  },
  {
   "cell_type": "code",
   "execution_count": null,
   "id": "68ce99e0",
   "metadata": {},
   "outputs": [],
   "source": []
  }
 ],
 "metadata": {
  "kernelspec": {
   "display_name": "ml",
   "language": "python",
   "name": "ml"
  },
  "language_info": {
   "codemirror_mode": {
    "name": "ipython",
    "version": 3
   },
   "file_extension": ".py",
   "mimetype": "text/x-python",
   "name": "python",
   "nbconvert_exporter": "python",
   "pygments_lexer": "ipython3",
   "version": "3.8.8"
  }
 },
 "nbformat": 4,
 "nbformat_minor": 5
}
